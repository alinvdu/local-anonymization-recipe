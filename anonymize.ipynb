{
 "cells": [
  {
   "cell_type": "code",
   "execution_count": null,
   "metadata": {},
   "outputs": [],
   "source": [
    "!pip install requests"
   ]
  },
  {
   "cell_type": "markdown",
   "metadata": {},
   "source": [
    "Check if Ollama is running and show available models"
   ]
  },
  {
   "cell_type": "code",
   "execution_count": 27,
   "metadata": {},
   "outputs": [
    {
     "name": "stdout",
     "output_type": "stream",
     "text": [
      "Ollama is running locally.\n",
      "Available models: llama3:latest, phi3:latest\n"
     ]
    }
   ],
   "source": [
    "import requests\n",
    "\n",
    "def check_ollama_status():\n",
    "    try:\n",
    "        resp = requests.get(\"http://localhost:11434/api/tags\", timeout=3)\n",
    "        if resp.status_code == 200:\n",
    "            models = [m['name'] for m in resp.json()['models']]\n",
    "            print(\"Ollama is running locally.\")\n",
    "            print(\"Available models:\", ', '.join(models) if models else \"None yet (run 'ollama pull llama3' in your terminal).\")\n",
    "            return models\n",
    "        else:\n",
    "            print(\"Ollama responded, but not OK.\")\n",
    "    except Exception as e:\n",
    "        print(\"Ollama is NOT running. Start it with the 'Ollama' app or via terminal: 'ollama serve'\")\n",
    "        raise\n",
    "\n",
    "available_models = check_ollama_status()\n"
   ]
  },
  {
   "cell_type": "markdown",
   "metadata": {},
   "source": [
    "Choose model to run and create the input text with data to anonymize"
   ]
  },
  {
   "cell_type": "code",
   "execution_count": 28,
   "metadata": {},
   "outputs": [
    {
     "name": "stdout",
     "output_type": "stream",
     "text": [
      "Using model: llama3:latest\n"
     ]
    }
   ],
   "source": [
    "MODEL_NAME = \"llama3:latest\"\n",
    "\n",
    "INPUT_TEXT = \"\"\"\n",
    "Jane Doe lives at 123 Main St, Springfield. Her phone number is (555) 123-4567. She works at Acme Corp.\n",
    "\"\"\"\n",
    "\n",
    "print(f\"Using model: {MODEL_NAME}\")"
   ]
  },
  {
   "cell_type": "markdown",
   "metadata": {},
   "source": [
    "Create the prompt with instructions and text to anonymize"
   ]
  },
  {
   "cell_type": "code",
   "execution_count": 29,
   "metadata": {},
   "outputs": [],
   "source": [
    "prompt = f\"\"\"\n",
    "Please anonymize the following conversation by replacing all names, addresses, phone numbers, and any other identifying information with generic placeholders. Output only the anonymized text.\n",
    "\n",
    "TEXT TO ANONYMIZE:\n",
    "{INPUT_TEXT}\n",
    "\"\"\"\n"
   ]
  },
  {
   "cell_type": "markdown",
   "metadata": {},
   "source": [
    "Send the prompt to Ollama and get the anonymized response"
   ]
  },
  {
   "cell_type": "code",
   "execution_count": 30,
   "metadata": {},
   "outputs": [],
   "source": [
    "def anonymize_text(prompt, model):\n",
    "    url = \"http://localhost:11434/api/generate\"\n",
    "    payload = {\n",
    "        \"model\": model,\n",
    "        \"system\": \"You are an expert anonymizer. Never reveal real names or personal identifiable information.\",\n",
    "        \"prompt\": prompt,\n",
    "        \"stream\": False\n",
    "    }\n",
    "    try:\n",
    "        resp = requests.post(url, json=payload)\n",
    "        result = resp.json()\n",
    "        if 'response' in result:\n",
    "            return result['response'].strip()\n",
    "        else:\n",
    "            return f\"Error: {result}\"\n",
    "    except Exception as e:\n",
    "        return f\"Error contacting Ollama: {e}\"\n",
    "\n",
    "anonymized_output = anonymize_text(prompt, MODEL_NAME)\n"
   ]
  },
  {
   "cell_type": "markdown",
   "metadata": {},
   "source": [
    "Display the result"
   ]
  },
  {
   "cell_type": "code",
   "execution_count": 31,
   "metadata": {},
   "outputs": [
    {
     "name": "stdout",
     "output_type": "stream",
     "text": [
      "Anonymized output:\n"
     ]
    },
    {
     "data": {
      "text/markdown": [
       "```\n",
       "Here is the anonymized text:\n",
       "\n",
       "[Person] lives at [Address]. Their phone number is ([Phone Number]). They work at [Company].\n",
       "```"
      ],
      "text/plain": [
       "<IPython.core.display.Markdown object>"
      ]
     },
     "metadata": {},
     "output_type": "display_data"
    }
   ],
   "source": [
    "# Cell 6: Display the result\n",
    "from IPython.display import display, Markdown\n",
    "\n",
    "print(\"Anonymized output:\")\n",
    "display(Markdown(f\"```\\n{anonymized_output}\\n```\"))\n"
   ]
  },
  {
   "cell_type": "code",
   "execution_count": null,
   "metadata": {},
   "outputs": [],
   "source": []
  }
 ],
 "metadata": {
  "kernelspec": {
   "display_name": "local_model",
   "language": "python",
   "name": "python3"
  },
  "language_info": {
   "codemirror_mode": {
    "name": "ipython",
    "version": 3
   },
   "file_extension": ".py",
   "mimetype": "text/x-python",
   "name": "python",
   "nbconvert_exporter": "python",
   "pygments_lexer": "ipython3",
   "version": "3.11.5"
  }
 },
 "nbformat": 4,
 "nbformat_minor": 2
}
